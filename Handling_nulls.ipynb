{
  "nbformat": 4,
  "nbformat_minor": 0,
  "metadata": {
    "colab": {
      "name": "Handling_nulls.ipynb",
      "provenance": [],
      "authorship_tag": "ABX9TyMjEForB+nfw39kSk5h4RJT",
      "include_colab_link": true
    },
    "kernelspec": {
      "name": "python3",
      "display_name": "Python 3"
    }
  },
  "cells": [
    {
      "cell_type": "markdown",
      "metadata": {
        "id": "view-in-github",
        "colab_type": "text"
      },
      "source": [
        "<a href=\"https://colab.research.google.com/github/msharmagcp/spark/blob/main/Handling_nulls.ipynb\" target=\"_parent\"><img src=\"https://colab.research.google.com/assets/colab-badge.svg\" alt=\"Open In Colab\"/></a>"
      ]
    },
    {
      "cell_type": "code",
      "metadata": {
        "colab": {
          "base_uri": "https://localhost:8080/",
          "height": 607
        },
        "id": "5yMEWwRsVsmO",
        "outputId": "c8b7ad3c-d403-4c59-f045-5571c0e159e7"
      },
      "source": [
        "!apt-get update\r\n",
        "!apt-get install openjdk-8-jdk-headless -qq > /dev/null\r\n",
        "!wget -q http://archive.apache.org/dist/spark/spark-2.3.1/spark-2.3.1-bin-hadoop2.7.tgz\r\n",
        "!tar xf spark-2.3.1-bin-hadoop2.7.tgz\r\n",
        "!pip install -q findspark\r\n",
        "\r\n",
        "import os\r\n",
        "os.environ[\"JAVA_HOME\"] = \"/usr/lib/jvm/java-8-openjdk-amd64\"\r\n",
        "os.environ[\"SPARK_HOME\"] = \"/content/spark-2.3.1-bin-hadoop2.7\"\r\n",
        "\r\n",
        "!ls\r\n",
        "\r\n",
        "import findspark\r\n",
        "findspark.init()\r\n",
        "\r\n",
        "import pyspark\r\n",
        "from pyspark.sql import SparkSession\r\n",
        "spark = SparkSession.builder.getOrCreate() \r\n",
        "spark"
      ],
      "execution_count": 1,
      "outputs": [
        {
          "output_type": "stream",
          "text": [
            "\r0% [Working]\r            \rGet:1 http://ppa.launchpad.net/c2d4u.team/c2d4u4.0+/ubuntu bionic InRelease [15.9 kB]\n",
            "\r0% [Waiting for headers] [Connecting to security.ubuntu.com (91.189.91.38)] [Co\r0% [Waiting for headers] [Connecting to security.ubuntu.com (91.189.91.38)] [Co\r                                                                               \rHit:2 http://archive.ubuntu.com/ubuntu bionic InRelease\n",
            "\r                                                                               \rGet:3 http://archive.ubuntu.com/ubuntu bionic-updates InRelease [88.7 kB]\n",
            "\r0% [3 InRelease 15.6 kB/88.7 kB 18%] [Connecting to security.ubuntu.com (91.189\r0% [1 InRelease gpgv 15.9 kB] [3 InRelease 15.6 kB/88.7 kB 18%] [Connecting to \r                                                                               \rHit:4 http://ppa.launchpad.net/cran/libgit2/ubuntu bionic InRelease\n",
            "\r0% [1 InRelease gpgv 15.9 kB] [3 InRelease 15.6 kB/88.7 kB 18%] [Connecting to \r0% [1 InRelease gpgv 15.9 kB] [Waiting for headers] [Connecting to security.ubu\r                                                                               \rHit:5 http://ppa.launchpad.net/deadsnakes/ppa/ubuntu bionic InRelease\n",
            "\r0% [1 InRelease gpgv 15.9 kB] [Waiting for headers] [Connecting to security.ubu\r                                                                               \rGet:6 http://archive.ubuntu.com/ubuntu bionic-backports InRelease [74.6 kB]\n",
            "\r0% [1 InRelease gpgv 15.9 kB] [6 InRelease 17.1 kB/74.6 kB 23%] [Connecting to \r0% [1 InRelease gpgv 15.9 kB] [Connecting to security.ubuntu.com (91.189.91.38)\r                                                                               \rHit:7 http://ppa.launchpad.net/graphics-drivers/ppa/ubuntu bionic InRelease\n",
            "\r0% [1 InRelease gpgv 15.9 kB] [Waiting for headers] [Connected to cloud.r-proje\r                                                                               \rGet:8 https://cloud.r-project.org/bin/linux/ubuntu bionic-cran40/ InRelease [3,626 B]\n",
            "\r                                                                               \r0% [1 InRelease gpgv 15.9 kB] [Waiting for headers] [Waiting for headers]\r                                                                         \rGet:9 http://security.ubuntu.com/ubuntu bionic-security InRelease [88.7 kB]\n",
            "Ign:10 https://developer.download.nvidia.com/compute/cuda/repos/ubuntu1804/x86_64  InRelease\n",
            "Ign:11 https://developer.download.nvidia.com/compute/machine-learning/repos/ubuntu1804/x86_64  InRelease\n",
            "Hit:12 https://developer.download.nvidia.com/compute/cuda/repos/ubuntu1804/x86_64  Release\n",
            "Hit:13 https://developer.download.nvidia.com/compute/machine-learning/repos/ubuntu1804/x86_64  Release\n",
            "Get:14 http://ppa.launchpad.net/c2d4u.team/c2d4u4.0+/ubuntu bionic/main Sources [1,739 kB]\n",
            "Get:15 http://ppa.launchpad.net/c2d4u.team/c2d4u4.0+/ubuntu bionic/main amd64 Packages [889 kB]\n",
            "Get:16 http://archive.ubuntu.com/ubuntu bionic-updates/universe amd64 Packages [2,163 kB]\n",
            "Get:17 http://archive.ubuntu.com/ubuntu bionic-updates/main amd64 Packages [2,394 kB]\n",
            "Get:20 http://security.ubuntu.com/ubuntu bionic-security/universe amd64 Packages [1,392 kB]\n",
            "Get:21 http://security.ubuntu.com/ubuntu bionic-security/main amd64 Packages [1,963 kB]\n",
            "Fetched 10.8 MB in 3s (3,169 kB/s)\n",
            "Reading package lists... Done\n",
            "original.csv  spark-2.3.1-bin-hadoop2.7\n",
            "sample_data   spark-2.3.1-bin-hadoop2.7.tgz\n"
          ],
          "name": "stdout"
        },
        {
          "output_type": "execute_result",
          "data": {
            "text/html": [
              "\n",
              "            <div>\n",
              "                <p><b>SparkSession - in-memory</b></p>\n",
              "                \n",
              "        <div>\n",
              "            <p><b>SparkContext</b></p>\n",
              "\n",
              "            <p><a href=\"http://c6ffc35fe18b:4040\">Spark UI</a></p>\n",
              "\n",
              "            <dl>\n",
              "              <dt>Version</dt>\n",
              "                <dd><code>v2.3.1</code></dd>\n",
              "              <dt>Master</dt>\n",
              "                <dd><code>local[*]</code></dd>\n",
              "              <dt>AppName</dt>\n",
              "                <dd><code>pyspark-shell</code></dd>\n",
              "            </dl>\n",
              "        </div>\n",
              "        \n",
              "            </div>\n",
              "        "
            ],
            "text/plain": [
              "<pyspark.sql.session.SparkSession at 0x7f7ca8acb850>"
            ]
          },
          "metadata": {
            "tags": []
          },
          "execution_count": 1
        }
      ]
    },
    {
      "cell_type": "code",
      "metadata": {
        "id": "4L7i6O_8VxBR"
      },
      "source": [
        "df = spark.read.csv(\"original.csv\", header=True)"
      ],
      "execution_count": 2,
      "outputs": []
    },
    {
      "cell_type": "code",
      "metadata": {
        "colab": {
          "base_uri": "https://localhost:8080/"
        },
        "id": "q-rbdUXOW6HV",
        "outputId": "a2db5b5a-d0f6-4c81-fa7f-4feaa463eeea"
      },
      "source": [
        "df.dtypes"
      ],
      "execution_count": 3,
      "outputs": [
        {
          "output_type": "execute_result",
          "data": {
            "text/plain": [
              "[('id', 'string'),\n",
              " ('first_name', 'string'),\n",
              " ('last_name', 'string'),\n",
              " ('gender', 'string'),\n",
              " ('City', 'string'),\n",
              " ('JobTitle', 'string'),\n",
              " ('Salary', 'string'),\n",
              " ('Latitude', 'string'),\n",
              " ('Longitude', 'string')]"
            ]
          },
          "metadata": {
            "tags": []
          },
          "execution_count": 3
        }
      ]
    },
    {
      "cell_type": "code",
      "metadata": {
        "id": "MWTZ2ULXXCu-"
      },
      "source": [
        "\r\n",
        "from pyspark.sql.types import * \r\n",
        "schema = StructType([\r\n",
        "  StructField('id', IntegerType()), \r\n",
        "  StructField('first_name', StringType()), \r\n",
        "  StructField('last_name', StringType()), \r\n",
        "  StructField('gender', StringType()), \r\n",
        "  StructField('City', StringType()), \r\n",
        "  StructField('JobTitle', StringType()), \r\n",
        "  StructField('Salary', StringType()), \r\n",
        "  StructField('Latitude', FloatType()), \r\n",
        "  StructField('Longitude', FloatType())\r\n",
        "])\r\n"
      ],
      "execution_count": 4,
      "outputs": []
    },
    {
      "cell_type": "code",
      "metadata": {
        "colab": {
          "base_uri": "https://localhost:8080/"
        },
        "id": "sDIEBd0WXH08",
        "outputId": "304a726c-37c2-4b0d-c2b7-62ce0721df5a"
      },
      "source": [
        "df.dtypes"
      ],
      "execution_count": 5,
      "outputs": [
        {
          "output_type": "execute_result",
          "data": {
            "text/plain": [
              "[('id', 'string'),\n",
              " ('first_name', 'string'),\n",
              " ('last_name', 'string'),\n",
              " ('gender', 'string'),\n",
              " ('City', 'string'),\n",
              " ('JobTitle', 'string'),\n",
              " ('Salary', 'string'),\n",
              " ('Latitude', 'string'),\n",
              " ('Longitude', 'string')]"
            ]
          },
          "metadata": {
            "tags": []
          },
          "execution_count": 5
        }
      ]
    },
    {
      "cell_type": "code",
      "metadata": {
        "id": "iFRPup3zXKUR"
      },
      "source": [
        "df = spark.read.csv(\"original.csv\", header=True, schema = schema)"
      ],
      "execution_count": 6,
      "outputs": []
    },
    {
      "cell_type": "code",
      "metadata": {
        "colab": {
          "base_uri": "https://localhost:8080/"
        },
        "id": "ApcwMar1XVuT",
        "outputId": "9997b77f-5afa-4fcc-8f9d-4a7cd61a75fc"
      },
      "source": [
        "df.dtypes"
      ],
      "execution_count": 7,
      "outputs": [
        {
          "output_type": "execute_result",
          "data": {
            "text/plain": [
              "[('id', 'int'),\n",
              " ('first_name', 'string'),\n",
              " ('last_name', 'string'),\n",
              " ('gender', 'string'),\n",
              " ('City', 'string'),\n",
              " ('JobTitle', 'string'),\n",
              " ('Salary', 'string'),\n",
              " ('Latitude', 'float'),\n",
              " ('Longitude', 'float')]"
            ]
          },
          "metadata": {
            "tags": []
          },
          "execution_count": 7
        }
      ]
    },
    {
      "cell_type": "code",
      "metadata": {
        "colab": {
          "base_uri": "https://localhost:8080/"
        },
        "id": "ac380aw8XYDG",
        "outputId": "175437a2-ddfb-4eba-81a5-cdd5fca05267"
      },
      "source": [
        "df_dropped = df.na.drop()\r\n",
        "df_dropped.show()"
      ],
      "execution_count": 8,
      "outputs": [
        {
          "output_type": "stream",
          "text": [
            "+---+----------+----------+------+---------------+--------------------+---------+----------+----------+\n",
            "| id|first_name| last_name|gender|           City|            JobTitle|   Salary|  Latitude| Longitude|\n",
            "+---+----------+----------+------+---------------+--------------------+---------+----------+----------+\n",
            "|  1|   Melinde| Shilburne|Female|      Nowa Ruda| Assistant Professor|$57438.18| 50.577408| 16.496717|\n",
            "|  2|  Kimberly|Von Welden|Female|         Bulgan|       Programmer II|$62846.60|  48.82316| 103.52182|\n",
            "|  4|   Shannon| O'Griffin|  Male|  Divnomorskoye|Budget/Accounting...|$61489.23| 44.504723| 38.130016|\n",
            "|  6|     Maris|      Folk|Female|Kinsealy-Drinan|      Civil Engineer|$30101.16| 53.426613|-6.1644998|\n",
            "|  8|   Goddart|     Flear|  Male|      Trélissac|Desktop Support T...|$46116.36| 45.190517| 0.7423124|\n",
            "|  9|      Roth|O'Cannavan|  Male|         Heitan|VP Product Manage...|$73697.10| 32.027935| 106.65711|\n",
            "| 10|      Bran|   Trahear|  Male|       Arbeláez|Mechanical System...|$68098.42|  4.272793|-74.416016|\n",
            "| 11|    Kylynn|   Lockart|Female|       El Cardo|Nuclear Power Eng...|$13604.63|     -5.85| -79.88333|\n",
            "| 12|       Rey|    Meharg|Female|    Wangqingtuo|Systems Administr...|$73423.70|  39.17238| 116.93161|\n",
            "| 13|      Kerr|    Braden|  Male|      Sułkowice|Compensation Analyst|$33432.99|  49.81518| 19.377174|\n",
            "| 14|    Mickie| Whanstall|  Male|    Springfield|Assistant Media P...|$50838.53|  42.10148|-72.576675|\n",
            "| 15|    Kaspar|     Pally|  Male|         Chrást|  Analyst Programmer|$40163.03|  49.79233| 13.491532|\n",
            "| 16|    Norbie|    Gwyllt|  Male|         Xijiao|              Editor|$32492.73| 43.494576|  5.897802|\n",
            "| 17|    Claude|    Briant|Female|      Mieścisko|Research Assistan...|$51862.48| 52.744167| 17.327864|\n",
            "| 18|     Thain|    Habbon|  Male| Foros do Trapo|     Design Engineer|$42135.67| 38.696247| -8.709834|\n",
            "| 19|  Tiffanie|  Pattison|Female|    Jabungsisir|Senior Financial ...|$91925.08|-7.7232566| 113.46868|\n",
            "| 20|    Ettore|  Gerriets|  Male|          Pedra| Staff Accountant IV|$73921.33| 40.717205|-8.3625145|\n",
            "| 21|      Alon|  Chasteau|  Male|          Xin’e|     Web Developer I|$62755.85|  49.16291| 127.98658|\n",
            "| 22|   Guthrey|    Johnke|  Male|         Xijiao|         Developer I|$13708.03| 40.757683| 23.134218|\n",
            "| 23|   Lurleen|   Janczak|Female|      Rozkishne|    Web Developer IV|$29384.72|  48.49028|  39.27122|\n",
            "+---+----------+----------+------+---------------+--------------------+---------+----------+----------+\n",
            "only showing top 20 rows\n",
            "\n"
          ],
          "name": "stdout"
        }
      ]
    },
    {
      "cell_type": "code",
      "metadata": {
        "id": "KNRrM6TYYKsV"
      },
      "source": [
        "df_null_jobs = df.filter(df.JobTitle.isNotNull())"
      ],
      "execution_count": 10,
      "outputs": []
    },
    {
      "cell_type": "code",
      "metadata": {
        "colab": {
          "base_uri": "https://localhost:8080/"
        },
        "id": "4htDe9_dYmXB",
        "outputId": "58784a77-dd54-43f4-f1d5-3361b3f29383"
      },
      "source": [
        "df_null_jobs.show()"
      ],
      "execution_count": 11,
      "outputs": [
        {
          "output_type": "stream",
          "text": [
            "+---+----------+----------+------+---------------+--------------------+---------+----------+----------+\n",
            "| id|first_name| last_name|gender|           City|            JobTitle|   Salary|  Latitude| Longitude|\n",
            "+---+----------+----------+------+---------------+--------------------+---------+----------+----------+\n",
            "|  1|   Melinde| Shilburne|Female|      Nowa Ruda| Assistant Professor|$57438.18| 50.577408| 16.496717|\n",
            "|  2|  Kimberly|Von Welden|Female|         Bulgan|       Programmer II|$62846.60|  48.82316| 103.52182|\n",
            "|  4|   Shannon| O'Griffin|  Male|  Divnomorskoye|Budget/Accounting...|$61489.23| 44.504723| 38.130016|\n",
            "|  5|  Sherwood|   Macieja|  Male|      Mytishchi|            VP Sales|$63863.09|      null| 37.648994|\n",
            "|  6|     Maris|      Folk|Female|Kinsealy-Drinan|      Civil Engineer|$30101.16| 53.426613|-6.1644998|\n",
            "|  8|   Goddart|     Flear|  Male|      Trélissac|Desktop Support T...|$46116.36| 45.190517| 0.7423124|\n",
            "|  9|      Roth|O'Cannavan|  Male|         Heitan|VP Product Manage...|$73697.10| 32.027935| 106.65711|\n",
            "| 10|      Bran|   Trahear|  Male|       Arbeláez|Mechanical System...|$68098.42|  4.272793|-74.416016|\n",
            "| 11|    Kylynn|   Lockart|Female|       El Cardo|Nuclear Power Eng...|$13604.63|     -5.85| -79.88333|\n",
            "| 12|       Rey|    Meharg|Female|    Wangqingtuo|Systems Administr...|$73423.70|  39.17238| 116.93161|\n",
            "| 13|      Kerr|    Braden|  Male|      Sułkowice|Compensation Analyst|$33432.99|  49.81518| 19.377174|\n",
            "| 14|    Mickie| Whanstall|  Male|    Springfield|Assistant Media P...|$50838.53|  42.10148|-72.576675|\n",
            "| 15|    Kaspar|     Pally|  Male|         Chrást|  Analyst Programmer|$40163.03|  49.79233| 13.491532|\n",
            "| 16|    Norbie|    Gwyllt|  Male|         Xijiao|              Editor|$32492.73| 43.494576|  5.897802|\n",
            "| 17|    Claude|    Briant|Female|      Mieścisko|Research Assistan...|$51862.48| 52.744167| 17.327864|\n",
            "| 18|     Thain|    Habbon|  Male| Foros do Trapo|     Design Engineer|$42135.67| 38.696247| -8.709834|\n",
            "| 19|  Tiffanie|  Pattison|Female|    Jabungsisir|Senior Financial ...|$91925.08|-7.7232566| 113.46868|\n",
            "| 20|    Ettore|  Gerriets|  Male|          Pedra| Staff Accountant IV|$73921.33| 40.717205|-8.3625145|\n",
            "| 21|      Alon|  Chasteau|  Male|          Xin’e|     Web Developer I|$62755.85|  49.16291| 127.98658|\n",
            "| 22|   Guthrey|    Johnke|  Male|         Xijiao|         Developer I|$13708.03| 40.757683| 23.134218|\n",
            "+---+----------+----------+------+---------------+--------------------+---------+----------+----------+\n",
            "only showing top 20 rows\n",
            "\n"
          ],
          "name": "stdout"
        }
      ]
    },
    {
      "cell_type": "code",
      "metadata": {
        "id": "J8vfJKGHY5v5"
      },
      "source": [
        "df_no_duplicates = df.dropDuplicates()"
      ],
      "execution_count": 12,
      "outputs": []
    },
    {
      "cell_type": "code",
      "metadata": {
        "colab": {
          "base_uri": "https://localhost:8080/"
        },
        "id": "7Jl34WysaI5B",
        "outputId": "7ed370f2-d656-442c-8ed0-3017fc80e34e"
      },
      "source": [
        "df_no_duplicates.show()"
      ],
      "execution_count": 13,
      "outputs": [
        {
          "output_type": "stream",
          "text": [
            "+---+----------+-------------+------+--------------------+--------------------+---------+----------+----------+\n",
            "| id|first_name|    last_name|gender|                City|            JobTitle|   Salary|  Latitude| Longitude|\n",
            "+---+----------+-------------+------+--------------------+--------------------+---------+----------+----------+\n",
            "|372|     Lyman|      Burfitt|  Male|             Guiping|Community Outreac...|$28755.53| 23.394325| 110.07938|\n",
            "|391|     Verge|     Hefferan|  Male|          Cocachacra|Community Outreac...|$90391.71|-17.091843| -71.77114|\n",
            "|428|   Pernell|      Fossitt|  Male|           Wangchang|    Graphic Designer|$36927.53| 40.401047|  117.9989|\n",
            "|526|  Garfield|    Benadette|  Male|              Shiren|   Marketing Manager|$56867.78| 28.651703| 117.90413|\n",
            "|731|     Legra|        Manns|Female|               Nîmes|  Research Associate|$42246.87| 43.844727| 4.3520436|\n",
            "|809|       Jed|       Shires|  Male|            Goubétto|     Design Engineer|$64130.79| 11.423197| 43.002483|\n",
            "|107|    Rhodia|     Glazzard|Female|            Predavac|             Actuary|$42166.97|  45.93808| 16.780666|\n",
            "|206|    Penrod|      Aukland|  Male|                Maru|    Junior Executive|$88916.91| 11.366184|  6.322607|\n",
            "|271|    Cyndie|       Docker|Female|        Sanshengyuan|     Legal Assistant|$28926.95| 38.284946| 114.44385|\n",
            "|519|  Marchall|       Gaskal|  Male|              Buawan|Research Assistan...|$40183.50|  14.64239|120.957565|\n",
            "|673|  Reinaldo|        Wiles|  Male|         Spas-Zaulok|Human Resources M...|$41604.67| 56.476814| 36.575226|\n",
            "|255|   Jameson|      Gaiford|  Male|             Dahuang|   Marketing Manager|$27207.16| 40.142128| 94.661964|\n",
            "|792|   Morgana|          Kew|Female|              Duozhu|        Engineer III|$71416.86| 23.027798| 114.95018|\n",
            "|294|   Quintus|    Potticary|  Male|São Mamede de Inf...|       Senior Editor|$55111.06|  41.18463| -8.598522|\n",
            "|422|  Giuditta|Thundercliffe|Female|             Xinying| Geological Engineer|$83766.35| 39.983112| -75.11504|\n",
            "|859|    Willyt|      Suttaby|Female|           Haykashen|Human Resources A...|$76556.57| 40.072536|  44.30513|\n",
            "|864|    Bertie|        Bewsy|  Male|         Poncokusumo|Software Test Eng...|$25446.48| -8.051573| 112.83438|\n",
            "|918|  Merralee|     Brockley|Female|          Karabanovo|  Nurse Practicioner|$45568.92|  56.30725| 38.701054|\n",
            "|163| Valentino|       Loxley|  Male|               Taifu| Software Consultant|$87708.40|  41.46429| -74.36236|\n",
            "|297|    Marlie|       Angelo|Female|            Cértegui|  Speech Pathologist|$21951.41|   5.40004| -76.60003|\n",
            "+---+----------+-------------+------+--------------------+--------------------+---------+----------+----------+\n",
            "only showing top 20 rows\n",
            "\n"
          ],
          "name": "stdout"
        }
      ]
    },
    {
      "cell_type": "code",
      "metadata": {
        "colab": {
          "base_uri": "https://localhost:8080/"
        },
        "id": "3OA8frVlaL4p",
        "outputId": "8e534006-5a1d-49e7-a747-62bd5e480021"
      },
      "source": [
        "#selecting and filtering data\r\n",
        "df_select = df.select(\"first_name\", \"last_name\")\r\n",
        "df_select.show()"
      ],
      "execution_count": 14,
      "outputs": [
        {
          "output_type": "stream",
          "text": [
            "+----------+----------+\n",
            "|first_name| last_name|\n",
            "+----------+----------+\n",
            "|   Melinde| Shilburne|\n",
            "|  Kimberly|Von Welden|\n",
            "|    Alvera|  Di Boldi|\n",
            "|   Shannon| O'Griffin|\n",
            "|  Sherwood|   Macieja|\n",
            "|     Maris|      Folk|\n",
            "|     Masha|    Divers|\n",
            "|   Goddart|     Flear|\n",
            "|      Roth|O'Cannavan|\n",
            "|      Bran|   Trahear|\n",
            "|    Kylynn|   Lockart|\n",
            "|       Rey|    Meharg|\n",
            "|      Kerr|    Braden|\n",
            "|    Mickie| Whanstall|\n",
            "|    Kaspar|     Pally|\n",
            "|    Norbie|    Gwyllt|\n",
            "|    Claude|    Briant|\n",
            "|     Thain|    Habbon|\n",
            "|  Tiffanie|  Pattison|\n",
            "|    Ettore|  Gerriets|\n",
            "+----------+----------+\n",
            "only showing top 20 rows\n",
            "\n"
          ],
          "name": "stdout"
        }
      ]
    },
    {
      "cell_type": "code",
      "metadata": {
        "colab": {
          "base_uri": "https://localhost:8080/"
        },
        "id": "N7KS_bEobbrK",
        "outputId": "bfcb4b8c-2d9c-42fa-9e89-6bdae4c3980c"
      },
      "source": [
        "#rename an existing column in data frame\r\n",
        "df_renamed = df.withColumnRenamed('first_name', 'fn')\r\n",
        "df_renamed.show()\r\n"
      ],
      "execution_count": 15,
      "outputs": [
        {
          "output_type": "stream",
          "text": [
            "+---+--------+----------+------+---------------+--------------------+---------+----------+----------+\n",
            "| id|      fn| last_name|gender|           City|            JobTitle|   Salary|  Latitude| Longitude|\n",
            "+---+--------+----------+------+---------------+--------------------+---------+----------+----------+\n",
            "|  1| Melinde| Shilburne|Female|      Nowa Ruda| Assistant Professor|$57438.18| 50.577408| 16.496717|\n",
            "|  2|Kimberly|Von Welden|Female|         Bulgan|       Programmer II|$62846.60|  48.82316| 103.52182|\n",
            "|  3|  Alvera|  Di Boldi|Female|           null|                null|$57576.52| 39.994747|116.339775|\n",
            "|  4| Shannon| O'Griffin|  Male|  Divnomorskoye|Budget/Accounting...|$61489.23| 44.504723| 38.130016|\n",
            "|  5|Sherwood|   Macieja|  Male|      Mytishchi|            VP Sales|$63863.09|      null| 37.648994|\n",
            "|  6|   Maris|      Folk|Female|Kinsealy-Drinan|      Civil Engineer|$30101.16| 53.426613|-6.1644998|\n",
            "|  7|   Masha|    Divers|Female|         Dachun|                null|$25090.87| 24.879416|118.930115|\n",
            "|  8| Goddart|     Flear|  Male|      Trélissac|Desktop Support T...|$46116.36| 45.190517| 0.7423124|\n",
            "|  9|    Roth|O'Cannavan|  Male|         Heitan|VP Product Manage...|$73697.10| 32.027935| 106.65711|\n",
            "| 10|    Bran|   Trahear|  Male|       Arbeláez|Mechanical System...|$68098.42|  4.272793|-74.416016|\n",
            "| 11|  Kylynn|   Lockart|Female|       El Cardo|Nuclear Power Eng...|$13604.63|     -5.85| -79.88333|\n",
            "| 12|     Rey|    Meharg|Female|    Wangqingtuo|Systems Administr...|$73423.70|  39.17238| 116.93161|\n",
            "| 13|    Kerr|    Braden|  Male|      Sułkowice|Compensation Analyst|$33432.99|  49.81518| 19.377174|\n",
            "| 14|  Mickie| Whanstall|  Male|    Springfield|Assistant Media P...|$50838.53|  42.10148|-72.576675|\n",
            "| 15|  Kaspar|     Pally|  Male|         Chrást|  Analyst Programmer|$40163.03|  49.79233| 13.491532|\n",
            "| 16|  Norbie|    Gwyllt|  Male|         Xijiao|              Editor|$32492.73| 43.494576|  5.897802|\n",
            "| 17|  Claude|    Briant|Female|      Mieścisko|Research Assistan...|$51862.48| 52.744167| 17.327864|\n",
            "| 18|   Thain|    Habbon|  Male| Foros do Trapo|     Design Engineer|$42135.67| 38.696247| -8.709834|\n",
            "| 19|Tiffanie|  Pattison|Female|    Jabungsisir|Senior Financial ...|$91925.08|-7.7232566| 113.46868|\n",
            "| 20|  Ettore|  Gerriets|  Male|          Pedra| Staff Accountant IV|$73921.33| 40.717205|-8.3625145|\n",
            "+---+--------+----------+------+---------------+--------------------+---------+----------+----------+\n",
            "only showing top 20 rows\n",
            "\n"
          ],
          "name": "stdout"
        }
      ]
    },
    {
      "cell_type": "code",
      "metadata": {
        "colab": {
          "base_uri": "https://localhost:8080/"
        },
        "id": "1c12nEbbbwMB",
        "outputId": "caf5d769-cba1-49f7-dae8-3c9943582003"
      },
      "source": [
        "#Filter dataframes\r\n",
        "df_filter = df.filter((df.first_name == 'Kylynn'))\r\n",
        "df_filter.show()"
      ],
      "execution_count": 18,
      "outputs": [
        {
          "output_type": "stream",
          "text": [
            "+---+----------+---------+------+--------+--------------------+---------+--------+---------+\n",
            "| id|first_name|last_name|gender|    City|            JobTitle|   Salary|Latitude|Longitude|\n",
            "+---+----------+---------+------+--------+--------------------+---------+--------+---------+\n",
            "| 11|    Kylynn|  Lockart|Female|El Cardo|Nuclear Power Eng...|$13604.63|   -5.85|-79.88333|\n",
            "+---+----------+---------+------+--------+--------------------+---------+--------+---------+\n",
            "\n"
          ],
          "name": "stdout"
        }
      ]
    },
    {
      "cell_type": "code",
      "metadata": {
        "colab": {
          "base_uri": "https://localhost:8080/"
        },
        "id": "zgWeSKTncQi-",
        "outputId": "4068b026-8975-4224-823f-0e1a15ac0849"
      },
      "source": [
        "# search for like names\r\n",
        "df_filter = df.filter((df.first_name.like('%ck%')))\r\n",
        "df_filter.show()"
      ],
      "execution_count": 24,
      "outputs": [
        {
          "output_type": "stream",
          "text": [
            "+---+----------+-----------+------+-------------------+--------------------+---------+----------+----------+\n",
            "| id|first_name|  last_name|gender|               City|            JobTitle|   Salary|  Latitude| Longitude|\n",
            "+---+----------+-----------+------+-------------------+--------------------+---------+----------+----------+\n",
            "| 14|    Mickie|  Whanstall|  Male|        Springfield|Assistant Media P...|$50838.53|  42.10148|-72.576675|\n",
            "| 37|     Nicko|      Frays|  Male|             Caxias|      Health Coach I|$99786.40|-4.8654137|   -43.362|\n",
            "| 95| Nickolaus|  Wollaston|  Male|Qorovulbozor Shahri|    Registered Nurse|$47221.40|  39.50308|  64.81142|\n",
            "|124|   Jackson|     Meriet|  Male|            Cuogang|             Actuary|$82505.36|  29.31525|  90.59979|\n",
            "|144|     Rocky|Hatherleigh|  Male|           Munkfors|Administrative As...|$85289.16|  59.85578| 13.548524|\n",
            "|263|   Chickie|      Vango|Female|           Parelhas|     Legal Assistant|$79334.91|-6.6858425|-36.660248|\n",
            "|373|     Rocky|   McConway|  Male|          Bradenton|     Sales Associate|$12246.73| 27.440405| -82.58284|\n",
            "|552|     Ricky|  Hallawell|  Male|            Thorold|     Staff Scientist|$19832.05| 43.113598| -79.21692|\n",
            "|654|   Herrick|    Singers|  Male|              Nuquí|  Help Desk Operator|$46405.25|  5.709563| -77.26669|\n",
            "|701| Nickolaus|        Dew|  Male|        Derzhavīnsk|     General Manager|$18182.91| 51.098125|  66.31654|\n",
            "|733|  Hendrick|Christophle|  Male|          Xiangdong|   Account Executive|$74615.18| 27.640076| 113.73305|\n",
            "|760|     Vicki|   Munnings|Female|          Dutsin Ma|  Speech Pathologist|$15323.10|  12.45448| 7.4976535|\n",
            "+---+----------+-----------+------+-------------------+--------------------+---------+----------+----------+\n",
            "\n"
          ],
          "name": "stdout"
        }
      ]
    },
    {
      "cell_type": "code",
      "metadata": {
        "colab": {
          "base_uri": "https://localhost:8080/"
        },
        "id": "WPbdOrecc_vQ",
        "outputId": "c34c047e-b71c-4e09-a31b-db909235a571"
      },
      "source": [
        "# find names ending with a particular character\r\n",
        "df_filter = df.filter((df.first_name.endswith('ie')))\r\n",
        "df_filter.show()"
      ],
      "execution_count": 23,
      "outputs": [
        {
          "output_type": "stream",
          "text": [
            "+---+----------+---------+------+--------------------+--------------------+---------+----------+-----------+\n",
            "| id|first_name|last_name|gender|                City|            JobTitle|   Salary|  Latitude|  Longitude|\n",
            "+---+----------+---------+------+--------------------+--------------------+---------+----------+-----------+\n",
            "| 14|    Mickie|Whanstall|  Male|         Springfield|Assistant Media P...|$50838.53|  42.10148| -72.576675|\n",
            "| 16|    Norbie|   Gwyllt|  Male|              Xijiao|              Editor|$32492.73| 43.494576|   5.897802|\n",
            "| 19|  Tiffanie| Pattison|Female|         Jabungsisir|Senior Financial ...|$91925.08|-7.7232566|  113.46868|\n",
            "| 38|    Lonnie|Townshend|Female|         As Sulayyil|Desktop Support T...|$44520.89| 20.466867|   45.56294|\n",
            "| 42|   Chelsie|  Yewdell|Female|             Klippan|         Engineer IV|$77039.47| 56.135742|  13.111945|\n",
            "| 46|    Sollie|   D'Acth|  Male|              Mozdok|     Design Engineer|$31385.87|  43.74542|  44.683067|\n",
            "| 90|    Cammie|    Stede|Female|          Sundbyberg|       Senior Editor|$45239.36| 59.368755|  17.977808|\n",
            "|135|    Aubrie| Swyndley|Female|Jarošov nad Nežárkou|    Internal Auditor|$82905.58|  49.19129|  15.052435|\n",
            "|140|     Andie|  Ernshaw|Female|               Casma| Executive Secretary|$58377.47|  -9.47183|  -78.30066|\n",
            "|148|    Lizzie|  Cridlin|Female|            Kenamoen| Electrical Engineer|$69631.29|  -10.5411|   123.2875|\n",
            "|154|    Winnie|Cumbridge|  Male|           Grytviken|           Professor|$66235.17| -54.28115|  -36.50874|\n",
            "|158|   Cynthie|   Finlow|Female|            Nouaseur|   Assistant Manager|$36268.65| 33.352726| -7.5788975|\n",
            "|166|    Buddie|   Marley|  Male|                Rama|     Legal Assistant|$34944.80|12.1630335|  -84.21998|\n",
            "|178|     Rodie|    Sagar|Female|            Montréal| Staff Accountant IV|$38003.97|  45.50804| -73.564545|\n",
            "|180|    Nannie| Matschuk|Female|             Manhete|Human Resources A...|$24265.76| 41.548557|   -8.58254|\n",
            "|181|    Amitie|   Stibbs|Female|              Dingle|             Teacher|$47861.51| 10.999194|  122.67178|\n",
            "|185|    Lezlie|   Tregea|Female|          El Salitre|Systems Administr...|$94859.08| 20.098057|-101.502785|\n",
            "|225|  Annmarie|Simionato|Female|           Suchy Las|     Health Coach II|$61517.64|  52.51254|  16.839527|\n",
            "|228|    Dulcie|   Huxton|Female|             Clamart|Accounting Assist...|$68066.76|  47.57454| -2.3578005|\n",
            "|230|    Mannie|  Lydiate|  Male|            Jingling|     Design Engineer|$55594.31|  30.96187| 113.378136|\n",
            "+---+----------+---------+------+--------------------+--------------------+---------+----------+-----------+\n",
            "only showing top 20 rows\n",
            "\n"
          ],
          "name": "stdout"
        }
      ]
    },
    {
      "cell_type": "code",
      "metadata": {
        "colab": {
          "base_uri": "https://localhost:8080/"
        },
        "id": "_Wk8S5UJddx2",
        "outputId": "3381abe2-7492-4f64-9821-d45c1142e907"
      },
      "source": [
        "df_filter = df.filter((df.first_name.startswith('M')))\r\n",
        "df_filter.show()"
      ],
      "execution_count": 25,
      "outputs": [
        {
          "output_type": "stream",
          "text": [
            "+---+----------+-----------+------+-----------------+--------------------+---------+---------+----------+\n",
            "| id|first_name|  last_name|gender|             City|            JobTitle|   Salary| Latitude| Longitude|\n",
            "+---+----------+-----------+------+-----------------+--------------------+---------+---------+----------+\n",
            "|  1|   Melinde|  Shilburne|Female|        Nowa Ruda| Assistant Professor|$57438.18|50.577408| 16.496717|\n",
            "|  6|     Maris|       Folk|Female|  Kinsealy-Drinan|      Civil Engineer|$30101.16|53.426613|-6.1644998|\n",
            "|  7|     Masha|     Divers|Female|           Dachun|                null|$25090.87|24.879416|118.930115|\n",
            "| 14|    Mickie|  Whanstall|  Male|      Springfield|Assistant Media P...|$50838.53| 42.10148|-72.576675|\n",
            "| 72| Marmaduke|      Eykel|  Male|         Petrovsk|      Web Designer I|$14012.83| 52.28769| 45.360283|\n",
            "| 82|     Maddy|   Francino|  Male|     Phra Khanong|Administrative As...|$29440.47|13.691066| 100.61402|\n",
            "| 94|     Milka|   Brightie|Female|            Kítsi|Occupational Ther...|$31388.07|37.851936| 23.840816|\n",
            "| 99| Margarete|Andreopolos|Female|        Neglasari|    Quality Engineer|$23216.03|-6.147133| 106.62324|\n",
            "|108|    Miriam|      Jertz|Female|            Hekou|    Quality Engineer|$27902.32|22.529404| 103.93935|\n",
            "|116|     Marni|      Loney|Female|           Tayang|     Cost Accountant|$40708.57|22.324743| 114.21104|\n",
            "|125|    Marcus|      Hulls|  Male|          Ngã Bảy|Senior Sales Asso...|$25805.88| 9.825256| 105.81729|\n",
            "|126|    Monica|    Linfoot|Female|   Lázně Kynžvart|    Media Manager IV|$36963.69|50.010593| 12.624753|\n",
            "|133|     Manya|    Westall|Female|          Macarse|  Help Desk Operator|$68709.02| 15.42495| 120.77476|\n",
            "|157|    Mikkel|     Hewins|  Male|          Wenshao|Programmer Analys...|$18941.51|27.993828| 120.69936|\n",
            "|172|    Marita|    Whyborn|Female|Sofo-Birnin-Gwari|  Biostatistician II|$45680.97| 11.01088|  6.798413|\n",
            "|187|       Mab|    Faughny|Female|           Obiliq|Research Assistan...|$21039.36|42.686916|  21.06704|\n",
            "|204|     Merle|        Ren|Female|         Nusajaya| Account Coordinator|$71637.92| 1.424768|103.648705|\n",
            "|205|    Mischa| Komorowski|  Male|            Lunec|Research Assistan...|$82423.71|15.938574| 120.49369|\n",
            "|208|  Maurizio| Raddenbury|  Male|           Jiyang|   Assistant Manager|$41273.88| 36.97854| 117.17352|\n",
            "|230|    Mannie|    Lydiate|  Male|         Jingling|     Design Engineer|$55594.31| 30.96187|113.378136|\n",
            "+---+----------+-----------+------+-----------------+--------------------+---------+---------+----------+\n",
            "only showing top 20 rows\n",
            "\n"
          ],
          "name": "stdout"
        }
      ]
    },
    {
      "cell_type": "code",
      "metadata": {
        "colab": {
          "base_uri": "https://localhost:8080/"
        },
        "id": "9IcvRpCbePE0",
        "outputId": "99a805d8-1006-4416-9c86-db8f83991889"
      },
      "source": [
        "# Filter and find ID between 1 and 5 \r\n",
        "df_filter = df.filter((df.id.between(55,65)))\r\n",
        "df_filter.show()"
      ],
      "execution_count": 31,
      "outputs": [
        {
          "output_type": "stream",
          "text": [
            "+---+----------+----------+------+--------------------+--------------------+---------+----------+----------+\n",
            "| id|first_name| last_name|gender|                City|            JobTitle|   Salary|  Latitude| Longitude|\n",
            "+---+----------+----------+------+--------------------+--------------------+---------+----------+----------+\n",
            "| 55|   Addison|   Goudard|  Male|Palmas De Gran Ca...|Safety Technician IV|$91642.24| 28.099018|-15.420325|\n",
            "| 56|   Goldina|MacFarlane|Female|               Gaohe|      Research Nurse|$25341.68|  36.14593| 113.01869|\n",
            "| 57|    Sigrid|  Iglesias|Female|            Zhenyuan|Human Resources M...|$24102.95| 27.049109| 108.42969|\n",
            "| 58| Valentine|Farnsworth|  Male|           Marjayoûn|Software Test Eng...|$21209.67| 33.359474|  35.58893|\n",
            "| 59|      Lusa|     Kowal|Female|            Registro|   Financial Advisor|$43176.23|-24.500229| -47.84481|\n",
            "| 60|       Rex| Sapsforde|  Male|            Tartagal|Budget/Accounting...|$42001.91|-31.453413|-64.208916|\n",
            "| 61|      Adam|   Seagood|  Male|         Krajan Siki|  Research Associate|$28660.11|   -8.1831|  111.5359|\n",
            "| 62|  Pierette|   Zanelli|Female|          Chōfugaoka|Senior Quality En...|$72918.12| 35.655346| 139.54764|\n",
            "| 63|    Antone|      Erie|  Male|          Bilohirs’k|  Help Desk Operator|$51271.99| 45.057796| 34.605095|\n",
            "| 64|     Dougy|    Browse|  Male|          Neftegorsk|        Engineer III|$97531.47| 44.366554| 39.709908|\n",
            "| 65|    Faydra|  Ashpital|Female|             Kakamas|Budget/Accounting...|$44648.27|-28.672731| 20.428444|\n",
            "+---+----------+----------+------+--------------------+--------------------+---------+----------+----------+\n",
            "\n"
          ],
          "name": "stdout"
        }
      ]
    },
    {
      "cell_type": "code",
      "metadata": {
        "id": "V3Z88wSlellM"
      },
      "source": [
        "df_filter = df.filter((df.first_name.isin('Aldin', 'Rex')))"
      ],
      "execution_count": 34,
      "outputs": []
    },
    {
      "cell_type": "code",
      "metadata": {
        "colab": {
          "base_uri": "https://localhost:8080/"
        },
        "id": "F669C0qRfk3F",
        "outputId": "5413039e-67a8-4ce9-d803-53befcf65534"
      },
      "source": [
        "df_filter.show()"
      ],
      "execution_count": 35,
      "outputs": [
        {
          "output_type": "stream",
          "text": [
            "+---+----------+-------------+------+-----------+--------------------+---------+----------+----------+\n",
            "| id|first_name|    last_name|gender|       City|            JobTitle|   Salary|  Latitude| Longitude|\n",
            "+---+----------+-------------+------+-----------+--------------------+---------+----------+----------+\n",
            "| 60|       Rex|    Sapsforde|  Male|   Tartagal|Budget/Accounting...|$42001.91|-31.453413|-64.208916|\n",
            "|901|     Aldin|Matuszkiewicz|  Male|East London|            Operator|$41468.83|-32.954933| 27.931913|\n",
            "+---+----------+-------------+------+-----------+--------------------+---------+----------+----------+\n",
            "\n"
          ],
          "name": "stdout"
        }
      ]
    },
    {
      "cell_type": "code",
      "metadata": {
        "colab": {
          "base_uri": "https://localhost:8080/"
        },
        "id": "9iJEqgMofnjd",
        "outputId": "acc730b6-9c35-4cf1-803c-bbce679e500f"
      },
      "source": [
        "#Select a set of characters from a column\r\n",
        "df_substr = df.select(df.first_name, df.first_name.substr(1,5).alias('name'))\r\n",
        "df_substr.show()"
      ],
      "execution_count": 37,
      "outputs": [
        {
          "output_type": "stream",
          "text": [
            "+----------+-----+\n",
            "|first_name| name|\n",
            "+----------+-----+\n",
            "|   Melinde|Melin|\n",
            "|  Kimberly|Kimbe|\n",
            "|    Alvera|Alver|\n",
            "|   Shannon|Shann|\n",
            "|  Sherwood|Sherw|\n",
            "|     Maris|Maris|\n",
            "|     Masha|Masha|\n",
            "|   Goddart|Godda|\n",
            "|      Roth| Roth|\n",
            "|      Bran| Bran|\n",
            "|    Kylynn|Kylyn|\n",
            "|       Rey|  Rey|\n",
            "|      Kerr| Kerr|\n",
            "|    Mickie|Micki|\n",
            "|    Kaspar|Kaspa|\n",
            "|    Norbie|Norbi|\n",
            "|    Claude|Claud|\n",
            "|     Thain|Thain|\n",
            "|  Tiffanie|Tiffa|\n",
            "|    Ettore|Ettor|\n",
            "+----------+-----+\n",
            "only showing top 20 rows\n",
            "\n"
          ],
          "name": "stdout"
        }
      ]
    },
    {
      "cell_type": "code",
      "metadata": {
        "colab": {
          "base_uri": "https://localhost:8080/"
        },
        "id": "RWt2Hd34gHz9",
        "outputId": "cac287ae-3ece-403f-960a-2599fcc4ffe9"
      },
      "source": [
        "#Applying multiple filters with AND\r\n",
        "df_filter = df.filter((df.first_name.isin('Aldin', 'Rex')) & (df.City.like('%ondon')))\r\n",
        "df_filter.show()"
      ],
      "execution_count": 40,
      "outputs": [
        {
          "output_type": "stream",
          "text": [
            "+---+----------+-------------+------+-----------+--------+---------+----------+---------+\n",
            "| id|first_name|    last_name|gender|       City|JobTitle|   Salary|  Latitude|Longitude|\n",
            "+---+----------+-------------+------+-----------+--------+---------+----------+---------+\n",
            "|901|     Aldin|Matuszkiewicz|  Male|East London|Operator|$41468.83|-32.954933|27.931913|\n",
            "+---+----------+-------------+------+-----------+--------+---------+----------+---------+\n",
            "\n"
          ],
          "name": "stdout"
        }
      ]
    },
    {
      "cell_type": "code",
      "metadata": {
        "colab": {
          "base_uri": "https://localhost:8080/"
        },
        "id": "COKRi6MWhmhv",
        "outputId": "5990f5ef-fed4-467f-fb9b-e9e97879e75a"
      },
      "source": [
        "df_filter = df.filter((df.id > 30) & (df.id < 100))\r\n",
        "df_filter.show()"
      ],
      "execution_count": 43,
      "outputs": [
        {
          "output_type": "stream",
          "text": [
            "+---+----------+-----------+------+--------------------+--------------------+---------+----------+----------+\n",
            "| id|first_name|  last_name|gender|                City|            JobTitle|   Salary|  Latitude| Longitude|\n",
            "+---+----------+-----------+------+--------------------+--------------------+---------+----------+----------+\n",
            "| 31|      Neda|       Krop|Female|    Ubon Ratchathani| Software Consultant|$48945.40| 15.247888| 104.87645|\n",
            "| 32| Westleigh|Belderfield|  Male|         Xiang Ngeun|      Accountant III|$78336.59|  19.76004| 102.18329|\n",
            "| 33|     Odell|    Morritt|  Male|Chalan Pago-Ordot...|     Design Engineer|$72777.48| 13.444138| 144.78209|\n",
            "| 34|     Barbi|  Fattorini|Female|         Wojcieszków|Desktop Support T...|$18163.55| 51.784008|  22.32681|\n",
            "| 35|      Base|  Summerlad|  Male|         Changuinola|Business Systems ...|$53137.80|  9.448871| -82.48518|\n",
            "| 36|     Paddy|    Ashness|  Male|            Ddmashen|        Engineer III|$34851.65| 40.568405| 44.815758|\n",
            "| 37|     Nicko|      Frays|  Male|              Caxias|      Health Coach I|$99786.40|-4.8654137|   -43.362|\n",
            "| 38|    Lonnie|  Townshend|Female|         As Sulayyil|Desktop Support T...|$44520.89| 20.466867|  45.56294|\n",
            "| 39|    Valida|   Salzberg|Female|         Pangnirtung| Assistant Professor|$94224.48|  66.14511| -65.71252|\n",
            "| 40| Pierrette|      Calow|Female|           Kaustinen|     Legal Assistant|$85120.77| 63.537266|  23.69932|\n",
            "| 41|   Deirdre| Codrington|Female|         Buena Vista| Software Engineer I|$85861.33|-17.458666| -63.66915|\n",
            "| 42|   Chelsie|    Yewdell|Female|             Klippan|         Engineer IV|$77039.47| 56.135742| 13.111945|\n",
            "| 43|   Hadrian|     Crumpe|  Male|               Rosso|Physical Therapy ...|$36879.44| 16.516342|-15.802612|\n",
            "| 44|   Orville|  Rigardeau|  Male|             Kokotów|     Data Coordiator|$20350.35| 50.014263| 20.096687|\n",
            "| 45| Gabrielle|   Tippings|Female|            Huangshi|              Editor|$98690.34|  30.20003| 115.03883|\n",
            "| 46|    Sollie|     D'Acth|  Male|              Mozdok|     Design Engineer|$31385.87|  43.74542| 44.683067|\n",
            "| 47|   Karissa|   Steinham|Female|            Qiligang|Human Resources A...|$56333.77| 30.916426| 118.73465|\n",
            "| 48|    Farlee|     Callen|  Male|         Tanjungluar|Structural Analys...|$16866.41| -8.776544| 116.50937|\n",
            "| 49|  Franklyn|      Campo|  Male|             Rzhavki|      Statistician I|$62765.00| 56.012775|  37.22298|\n",
            "| 50|    Joleen|    Kermeen|Female|        Pointe-Noire|     Statistician II|$31536.09| -4.769162| 11.866362|\n",
            "+---+----------+-----------+------+--------------------+--------------------+---------+----------+----------+\n",
            "only showing top 20 rows\n",
            "\n"
          ],
          "name": "stdout"
        }
      ]
    },
    {
      "cell_type": "code",
      "metadata": {
        "colab": {
          "base_uri": "https://localhost:8080/"
        },
        "id": "JUt28GKkiUtW",
        "outputId": "8563ceed-6ac1-424f-938a-d2bc83a01b9d"
      },
      "source": [
        "#Applying multiple filters WITH OR\r\n",
        "df_filter = df.filter((df.first_name.isin('Aldin', 'Rex')) | (df.City.like('%ondon')))\r\n",
        "df_filter.show()"
      ],
      "execution_count": 44,
      "outputs": [
        {
          "output_type": "stream",
          "text": [
            "+---+----------+-------------+------+-----------+--------------------+---------+----------+----------+\n",
            "| id|first_name|    last_name|gender|       City|            JobTitle|   Salary|  Latitude| Longitude|\n",
            "+---+----------+-------------+------+-----------+--------------------+---------+----------+----------+\n",
            "| 60|       Rex|    Sapsforde|  Male|   Tartagal|Budget/Accounting...|$42001.91|-31.453413|-64.208916|\n",
            "|901|     Aldin|Matuszkiewicz|  Male|East London|            Operator|$41468.83|-32.954933| 27.931913|\n",
            "+---+----------+-------------+------+-----------+--------------------+---------+----------+----------+\n",
            "\n"
          ],
          "name": "stdout"
        }
      ]
    },
    {
      "cell_type": "code",
      "metadata": {
        "colab": {
          "base_uri": "https://localhost:8080/"
        },
        "id": "yyHRnuUYi1Gk",
        "outputId": "5e029f7d-8e43-43ae-9fd5-de2539b1495e"
      },
      "source": [
        "#Running SQL on our dataframes\r\n",
        "#Register a temporary table from the prior dataframe\r\n",
        "df.registerTempTable(\"original\")\r\n",
        "query1 = spark.sql('select * from original')\r\n",
        "query1.show()"
      ],
      "execution_count": 45,
      "outputs": [
        {
          "output_type": "stream",
          "text": [
            "+---+----------+----------+------+---------------+--------------------+---------+----------+----------+\n",
            "| id|first_name| last_name|gender|           City|            JobTitle|   Salary|  Latitude| Longitude|\n",
            "+---+----------+----------+------+---------------+--------------------+---------+----------+----------+\n",
            "|  1|   Melinde| Shilburne|Female|      Nowa Ruda| Assistant Professor|$57438.18| 50.577408| 16.496717|\n",
            "|  2|  Kimberly|Von Welden|Female|         Bulgan|       Programmer II|$62846.60|  48.82316| 103.52182|\n",
            "|  3|    Alvera|  Di Boldi|Female|           null|                null|$57576.52| 39.994747|116.339775|\n",
            "|  4|   Shannon| O'Griffin|  Male|  Divnomorskoye|Budget/Accounting...|$61489.23| 44.504723| 38.130016|\n",
            "|  5|  Sherwood|   Macieja|  Male|      Mytishchi|            VP Sales|$63863.09|      null| 37.648994|\n",
            "|  6|     Maris|      Folk|Female|Kinsealy-Drinan|      Civil Engineer|$30101.16| 53.426613|-6.1644998|\n",
            "|  7|     Masha|    Divers|Female|         Dachun|                null|$25090.87| 24.879416|118.930115|\n",
            "|  8|   Goddart|     Flear|  Male|      Trélissac|Desktop Support T...|$46116.36| 45.190517| 0.7423124|\n",
            "|  9|      Roth|O'Cannavan|  Male|         Heitan|VP Product Manage...|$73697.10| 32.027935| 106.65711|\n",
            "| 10|      Bran|   Trahear|  Male|       Arbeláez|Mechanical System...|$68098.42|  4.272793|-74.416016|\n",
            "| 11|    Kylynn|   Lockart|Female|       El Cardo|Nuclear Power Eng...|$13604.63|     -5.85| -79.88333|\n",
            "| 12|       Rey|    Meharg|Female|    Wangqingtuo|Systems Administr...|$73423.70|  39.17238| 116.93161|\n",
            "| 13|      Kerr|    Braden|  Male|      Sułkowice|Compensation Analyst|$33432.99|  49.81518| 19.377174|\n",
            "| 14|    Mickie| Whanstall|  Male|    Springfield|Assistant Media P...|$50838.53|  42.10148|-72.576675|\n",
            "| 15|    Kaspar|     Pally|  Male|         Chrást|  Analyst Programmer|$40163.03|  49.79233| 13.491532|\n",
            "| 16|    Norbie|    Gwyllt|  Male|         Xijiao|              Editor|$32492.73| 43.494576|  5.897802|\n",
            "| 17|    Claude|    Briant|Female|      Mieścisko|Research Assistan...|$51862.48| 52.744167| 17.327864|\n",
            "| 18|     Thain|    Habbon|  Male| Foros do Trapo|     Design Engineer|$42135.67| 38.696247| -8.709834|\n",
            "| 19|  Tiffanie|  Pattison|Female|    Jabungsisir|Senior Financial ...|$91925.08|-7.7232566| 113.46868|\n",
            "| 20|    Ettore|  Gerriets|  Male|          Pedra| Staff Accountant IV|$73921.33| 40.717205|-8.3625145|\n",
            "+---+----------+----------+------+---------------+--------------------+---------+----------+----------+\n",
            "only showing top 20 rows\n",
            "\n"
          ],
          "name": "stdout"
        }
      ]
    },
    {
      "cell_type": "code",
      "metadata": {
        "colab": {
          "base_uri": "https://localhost:8080/"
        },
        "id": "QI_Q4jfjkYvL",
        "outputId": "12b34cd6-af52-4cda-d0b7-2f53a7d97d98"
      },
      "source": [
        "query2 = spark.sql('select concat(first_name, \" \", last_name) as full_name from original where gender = \"Female\" ')\r\n",
        "query2.show()"
      ],
      "execution_count": 48,
      "outputs": [
        {
          "output_type": "stream",
          "text": [
            "+-------------------+\n",
            "|          full_name|\n",
            "+-------------------+\n",
            "|  Melinde Shilburne|\n",
            "|Kimberly Von Welden|\n",
            "|    Alvera Di Boldi|\n",
            "|         Maris Folk|\n",
            "|       Masha Divers|\n",
            "|     Kylynn Lockart|\n",
            "|         Rey Meharg|\n",
            "|      Claude Briant|\n",
            "|  Tiffanie Pattison|\n",
            "|    Lurleen Janczak|\n",
            "|      Nichol Holtum|\n",
            "|       Shaun Bridle|\n",
            "|     Leandra Anfrey|\n",
            "|    Jaquelyn Hazard|\n",
            "|  Prudence Honacker|\n",
            "|       Cherey Liger|\n",
            "|          Neda Krop|\n",
            "|    Barbi Fattorini|\n",
            "|   Lonnie Townshend|\n",
            "|    Valida Salzberg|\n",
            "+-------------------+\n",
            "only showing top 20 rows\n",
            "\n"
          ],
          "name": "stdout"
        }
      ]
    },
    {
      "cell_type": "code",
      "metadata": {
        "colab": {
          "base_uri": "https://localhost:8080/"
        },
        "id": "TE7tyn4YlS_D",
        "outputId": "03ba1600-abce-4a1c-8808-6a7e2e590f25"
      },
      "source": [
        "#Adding calculated columns\r\n",
        "from pyspark.sql.functions import *\r\n",
        "df = df.withColumn('clean_salary', df.Salary.substr(2,100).cast('float'))\r\n",
        "df.show()"
      ],
      "execution_count": 51,
      "outputs": [
        {
          "output_type": "stream",
          "text": [
            "+---+----------+----------+------+---------------+--------------------+---------+----------+----------+------------+\n",
            "| id|first_name| last_name|gender|           City|            JobTitle|   Salary|  Latitude| Longitude|clean_salary|\n",
            "+---+----------+----------+------+---------------+--------------------+---------+----------+----------+------------+\n",
            "|  1|   Melinde| Shilburne|Female|      Nowa Ruda| Assistant Professor|$57438.18| 50.577408| 16.496717|    57438.18|\n",
            "|  2|  Kimberly|Von Welden|Female|         Bulgan|       Programmer II|$62846.60|  48.82316| 103.52182|     62846.6|\n",
            "|  3|    Alvera|  Di Boldi|Female|           null|                null|$57576.52| 39.994747|116.339775|    57576.52|\n",
            "|  4|   Shannon| O'Griffin|  Male|  Divnomorskoye|Budget/Accounting...|$61489.23| 44.504723| 38.130016|    61489.23|\n",
            "|  5|  Sherwood|   Macieja|  Male|      Mytishchi|            VP Sales|$63863.09|      null| 37.648994|    63863.09|\n",
            "|  6|     Maris|      Folk|Female|Kinsealy-Drinan|      Civil Engineer|$30101.16| 53.426613|-6.1644998|    30101.16|\n",
            "|  7|     Masha|    Divers|Female|         Dachun|                null|$25090.87| 24.879416|118.930115|    25090.87|\n",
            "|  8|   Goddart|     Flear|  Male|      Trélissac|Desktop Support T...|$46116.36| 45.190517| 0.7423124|    46116.36|\n",
            "|  9|      Roth|O'Cannavan|  Male|         Heitan|VP Product Manage...|$73697.10| 32.027935| 106.65711|     73697.1|\n",
            "| 10|      Bran|   Trahear|  Male|       Arbeláez|Mechanical System...|$68098.42|  4.272793|-74.416016|    68098.42|\n",
            "| 11|    Kylynn|   Lockart|Female|       El Cardo|Nuclear Power Eng...|$13604.63|     -5.85| -79.88333|    13604.63|\n",
            "| 12|       Rey|    Meharg|Female|    Wangqingtuo|Systems Administr...|$73423.70|  39.17238| 116.93161|     73423.7|\n",
            "| 13|      Kerr|    Braden|  Male|      Sułkowice|Compensation Analyst|$33432.99|  49.81518| 19.377174|    33432.99|\n",
            "| 14|    Mickie| Whanstall|  Male|    Springfield|Assistant Media P...|$50838.53|  42.10148|-72.576675|    50838.53|\n",
            "| 15|    Kaspar|     Pally|  Male|         Chrást|  Analyst Programmer|$40163.03|  49.79233| 13.491532|    40163.03|\n",
            "| 16|    Norbie|    Gwyllt|  Male|         Xijiao|              Editor|$32492.73| 43.494576|  5.897802|    32492.73|\n",
            "| 17|    Claude|    Briant|Female|      Mieścisko|Research Assistan...|$51862.48| 52.744167| 17.327864|    51862.48|\n",
            "| 18|     Thain|    Habbon|  Male| Foros do Trapo|     Design Engineer|$42135.67| 38.696247| -8.709834|    42135.67|\n",
            "| 19|  Tiffanie|  Pattison|Female|    Jabungsisir|Senior Financial ...|$91925.08|-7.7232566| 113.46868|    91925.08|\n",
            "| 20|    Ettore|  Gerriets|  Male|          Pedra| Staff Accountant IV|$73921.33| 40.717205|-8.3625145|    73921.33|\n",
            "+---+----------+----------+------+---------------+--------------------+---------+----------+----------+------------+\n",
            "only showing top 20 rows\n",
            "\n"
          ],
          "name": "stdout"
        }
      ]
    },
    {
      "cell_type": "code",
      "metadata": {
        "colab": {
          "base_uri": "https://localhost:8080/"
        },
        "id": "djDq593lnEqx",
        "outputId": "124b830e-6757-4a85-9f0f-3cd53b910678"
      },
      "source": [
        "df = df.withColumn('monthly_salary', df.clean_salary/12)\r\n",
        "df.show()"
      ],
      "execution_count": 52,
      "outputs": [
        {
          "output_type": "stream",
          "text": [
            "+---+----------+----------+------+---------------+--------------------+---------+----------+----------+------------+------------------+\n",
            "| id|first_name| last_name|gender|           City|            JobTitle|   Salary|  Latitude| Longitude|clean_salary|    monthly_salary|\n",
            "+---+----------+----------+------+---------------+--------------------+---------+----------+----------+------------+------------------+\n",
            "|  1|   Melinde| Shilburne|Female|      Nowa Ruda| Assistant Professor|$57438.18| 50.577408| 16.496717|    57438.18| 4786.514973958333|\n",
            "|  2|  Kimberly|Von Welden|Female|         Bulgan|       Programmer II|$62846.60|  48.82316| 103.52182|     62846.6|    5237.216796875|\n",
            "|  3|    Alvera|  Di Boldi|Female|           null|                null|$57576.52| 39.994747|116.339775|    57576.52| 4798.043294270833|\n",
            "|  4|   Shannon| O'Griffin|  Male|  Divnomorskoye|Budget/Accounting...|$61489.23| 44.504723| 38.130016|    61489.23|   5124.1025390625|\n",
            "|  5|  Sherwood|   Macieja|  Male|      Mytishchi|            VP Sales|$63863.09|      null| 37.648994|    63863.09| 5321.924153645833|\n",
            "|  6|     Maris|      Folk|Female|Kinsealy-Drinan|      Civil Engineer|$30101.16| 53.426613|-6.1644998|    30101.16|2508.4300130208335|\n",
            "|  7|     Masha|    Divers|Female|         Dachun|                null|$25090.87| 24.879416|118.930115|    25090.87|  2090.90576171875|\n",
            "|  8|   Goddart|     Flear|  Male|      Trélissac|Desktop Support T...|$46116.36| 45.190517| 0.7423124|    46116.36|3843.0299479166665|\n",
            "|  9|      Roth|O'Cannavan|  Male|         Heitan|VP Product Manage...|$73697.10| 32.027935| 106.65711|     73697.1| 6141.425130208333|\n",
            "| 10|      Bran|   Trahear|  Male|       Arbeláez|Mechanical System...|$68098.42|  4.272793|-74.416016|    68098.42| 5674.868489583333|\n",
            "| 11|    Kylynn|   Lockart|Female|       El Cardo|Nuclear Power Eng...|$13604.63|     -5.85| -79.88333|    13604.63|1133.7191569010417|\n",
            "| 12|       Rey|    Meharg|Female|    Wangqingtuo|Systems Administr...|$73423.70|  39.17238| 116.93161|     73423.7| 6118.641927083333|\n",
            "| 13|      Kerr|    Braden|  Male|      Sułkowice|Compensation Analyst|$33432.99|  49.81518| 19.377174|    33432.99|2786.0823567708335|\n",
            "| 14|    Mickie| Whanstall|  Male|    Springfield|Assistant Media P...|$50838.53|  42.10148|-72.576675|    50838.53| 4236.544270833333|\n",
            "| 15|    Kaspar|     Pally|  Male|         Chrást|  Analyst Programmer|$40163.03|  49.79233| 13.491532|    40163.03|3346.9192708333335|\n",
            "| 16|    Norbie|    Gwyllt|  Male|         Xijiao|              Editor|$32492.73| 43.494576|  5.897802|    32492.73|   2707.7275390625|\n",
            "| 17|    Claude|    Briant|Female|      Mieścisko|Research Assistan...|$51862.48| 52.744167| 17.327864|    51862.48| 4321.873372395833|\n",
            "| 18|     Thain|    Habbon|  Male| Foros do Trapo|     Design Engineer|$42135.67| 38.696247| -8.709834|    42135.67|3511.3059895833335|\n",
            "| 19|  Tiffanie|  Pattison|Female|    Jabungsisir|Senior Financial ...|$91925.08|-7.7232566| 113.46868|    91925.08| 7660.423177083333|\n",
            "| 20|    Ettore|  Gerriets|  Male|          Pedra| Staff Accountant IV|$73921.33| 40.717205|-8.3625145|    73921.33| 6160.110677083333|\n",
            "+---+----------+----------+------+---------------+--------------------+---------+----------+----------+------------+------------------+\n",
            "only showing top 20 rows\n",
            "\n"
          ],
          "name": "stdout"
        }
      ]
    },
    {
      "cell_type": "code",
      "metadata": {
        "colab": {
          "base_uri": "https://localhost:8080/"
        },
        "id": "q2zbMRaenmYK",
        "outputId": "a5f881aa-52b4-466e-b15e-b872bb4843a8"
      },
      "source": [
        "df = df.withColumn('are_they_female', when(df.gender == 'Female', 'Yes').otherwise('no'))\r\n",
        "df.show()"
      ],
      "execution_count": 53,
      "outputs": [
        {
          "output_type": "stream",
          "text": [
            "+---+----------+----------+------+---------------+--------------------+---------+----------+----------+------------+------------------+---------------+\n",
            "| id|first_name| last_name|gender|           City|            JobTitle|   Salary|  Latitude| Longitude|clean_salary|    monthly_salary|are_they_female|\n",
            "+---+----------+----------+------+---------------+--------------------+---------+----------+----------+------------+------------------+---------------+\n",
            "|  1|   Melinde| Shilburne|Female|      Nowa Ruda| Assistant Professor|$57438.18| 50.577408| 16.496717|    57438.18| 4786.514973958333|            Yes|\n",
            "|  2|  Kimberly|Von Welden|Female|         Bulgan|       Programmer II|$62846.60|  48.82316| 103.52182|     62846.6|    5237.216796875|            Yes|\n",
            "|  3|    Alvera|  Di Boldi|Female|           null|                null|$57576.52| 39.994747|116.339775|    57576.52| 4798.043294270833|            Yes|\n",
            "|  4|   Shannon| O'Griffin|  Male|  Divnomorskoye|Budget/Accounting...|$61489.23| 44.504723| 38.130016|    61489.23|   5124.1025390625|             no|\n",
            "|  5|  Sherwood|   Macieja|  Male|      Mytishchi|            VP Sales|$63863.09|      null| 37.648994|    63863.09| 5321.924153645833|             no|\n",
            "|  6|     Maris|      Folk|Female|Kinsealy-Drinan|      Civil Engineer|$30101.16| 53.426613|-6.1644998|    30101.16|2508.4300130208335|            Yes|\n",
            "|  7|     Masha|    Divers|Female|         Dachun|                null|$25090.87| 24.879416|118.930115|    25090.87|  2090.90576171875|            Yes|\n",
            "|  8|   Goddart|     Flear|  Male|      Trélissac|Desktop Support T...|$46116.36| 45.190517| 0.7423124|    46116.36|3843.0299479166665|             no|\n",
            "|  9|      Roth|O'Cannavan|  Male|         Heitan|VP Product Manage...|$73697.10| 32.027935| 106.65711|     73697.1| 6141.425130208333|             no|\n",
            "| 10|      Bran|   Trahear|  Male|       Arbeláez|Mechanical System...|$68098.42|  4.272793|-74.416016|    68098.42| 5674.868489583333|             no|\n",
            "| 11|    Kylynn|   Lockart|Female|       El Cardo|Nuclear Power Eng...|$13604.63|     -5.85| -79.88333|    13604.63|1133.7191569010417|            Yes|\n",
            "| 12|       Rey|    Meharg|Female|    Wangqingtuo|Systems Administr...|$73423.70|  39.17238| 116.93161|     73423.7| 6118.641927083333|            Yes|\n",
            "| 13|      Kerr|    Braden|  Male|      Sułkowice|Compensation Analyst|$33432.99|  49.81518| 19.377174|    33432.99|2786.0823567708335|             no|\n",
            "| 14|    Mickie| Whanstall|  Male|    Springfield|Assistant Media P...|$50838.53|  42.10148|-72.576675|    50838.53| 4236.544270833333|             no|\n",
            "| 15|    Kaspar|     Pally|  Male|         Chrást|  Analyst Programmer|$40163.03|  49.79233| 13.491532|    40163.03|3346.9192708333335|             no|\n",
            "| 16|    Norbie|    Gwyllt|  Male|         Xijiao|              Editor|$32492.73| 43.494576|  5.897802|    32492.73|   2707.7275390625|             no|\n",
            "| 17|    Claude|    Briant|Female|      Mieścisko|Research Assistan...|$51862.48| 52.744167| 17.327864|    51862.48| 4321.873372395833|            Yes|\n",
            "| 18|     Thain|    Habbon|  Male| Foros do Trapo|     Design Engineer|$42135.67| 38.696247| -8.709834|    42135.67|3511.3059895833335|             no|\n",
            "| 19|  Tiffanie|  Pattison|Female|    Jabungsisir|Senior Financial ...|$91925.08|-7.7232566| 113.46868|    91925.08| 7660.423177083333|            Yes|\n",
            "| 20|    Ettore|  Gerriets|  Male|          Pedra| Staff Accountant IV|$73921.33| 40.717205|-8.3625145|    73921.33| 6160.110677083333|             no|\n",
            "+---+----------+----------+------+---------------+--------------------+---------+----------+----------+------------+------------------+---------------+\n",
            "only showing top 20 rows\n",
            "\n"
          ],
          "name": "stdout"
        }
      ]
    },
    {
      "cell_type": "code",
      "metadata": {
        "colab": {
          "base_uri": "https://localhost:8080/"
        },
        "id": "lY7HN7-RoZdp",
        "outputId": "d012ee28-3326-429a-e0e9-c05f05247c19"
      },
      "source": [
        "import pyspark.sql.functions as sqlfunc\r\n",
        "df1 = df.groupBy('gender').agg(sqlfunc.sum('clean_salary'))\r\n",
        "df1.show()"
      ],
      "execution_count": 54,
      "outputs": [
        {
          "output_type": "stream",
          "text": [
            "+------+--------------------+\n",
            "|gender|   sum(clean_salary)|\n",
            "+------+--------------------+\n",
            "|Female|2.7364519950195312E7|\n",
            "|  Male|2.8123435678710938E7|\n",
            "+------+--------------------+\n",
            "\n"
          ],
          "name": "stdout"
        }
      ]
    },
    {
      "cell_type": "code",
      "metadata": {
        "colab": {
          "base_uri": "https://localhost:8080/"
        },
        "id": "Fyl211FTu8r_",
        "outputId": "7a029b83-ddf4-4aa4-d987-49a6167dc69e"
      },
      "source": [
        "df1 = df.groupBy('gender').agg(sqlfunc.sum('clean_salary').alias('total'),sqlfunc.avg('clean_salary').alias('average'),sqlfunc.min('clean_salary').alias('min'),sqlfunc.max('clean_salary').alias('max'))\r\n",
        "df1.show()"
      ],
      "execution_count": 58,
      "outputs": [
        {
          "output_type": "stream",
          "text": [
            "+------+--------------------+-----------------+--------+--------+\n",
            "|gender|               total|          average|     min|     max|\n",
            "+------+--------------------+-----------------+--------+--------+\n",
            "|Female|2.7364519950195312E7|55618.94298820185|10616.44|99948.28|\n",
            "|  Male|2.8123435678710938E7|55361.09385573019|10101.92|99942.92|\n",
            "+------+--------------------+-----------------+--------+--------+\n",
            "\n"
          ],
          "name": "stdout"
        }
      ]
    },
    {
      "cell_type": "code",
      "metadata": {
        "colab": {
          "base_uri": "https://localhost:8080/"
        },
        "id": "UU2MBQBCvvJx",
        "outputId": "53b23706-095b-4942-f199-8df5c6fe7d8c"
      },
      "source": [
        "#per gender and city\r\n",
        "df1 = df.groupBy('gender', 'city').agg(sqlfunc.sum('clean_salary').alias('total'),sqlfunc.avg('clean_salary').alias('average'),sqlfunc.min('clean_salary').alias('min'),sqlfunc.max('clean_salary').alias('max'))\r\n",
        "df1.show()"
      ],
      "execution_count": 59,
      "outputs": [
        {
          "output_type": "stream",
          "text": [
            "+------+-----------------+----------------+----------------+--------+--------+\n",
            "|gender|             city|           total|         average|     min|     max|\n",
            "+------+-----------------+----------------+----------------+--------+--------+\n",
            "|Female|           Dachun| 25090.869140625| 25090.869140625|25090.87|25090.87|\n",
            "|Female|      Trollhättan|106623.369140625|53311.6845703125|26830.47| 79792.9|\n",
            "|  Male|          Wenshao| 18941.509765625| 18941.509765625|18941.51|18941.51|\n",
            "|Female|            Lanas| 13765.900390625| 13765.900390625| 13765.9| 13765.9|\n",
            "|  Male|            Mörön|    77940.078125|    77940.078125|77940.08|77940.08|\n",
            "|Female|             Same|   73369.7265625|   73369.7265625|73369.73|73369.73|\n",
            "|Female|          Sawahan|  24608.83984375|  24608.83984375|24608.84|24608.84|\n",
            "|  Male|Monte da Boavista|     98586.71875|     98586.71875|98586.72|98586.72|\n",
            "|Female|         Nusajaya|    71637.921875|    71637.921875|71637.92|71637.92|\n",
            "|Female|            Kista|   96192.3984375|   96192.3984375| 96192.4| 96192.4|\n",
            "|  Male|       Pittsburgh|    83121.890625|    83121.890625|83121.89|83121.89|\n",
            "|  Male|       Neftegorsk|     97531.46875|     97531.46875|97531.47|97531.47|\n",
            "|Female|          Yanaoca|     54906.21875|     54906.21875|54906.22|54906.22|\n",
            "|  Male|            Tambo|  40264.91015625|  40264.91015625|40264.91|40264.91|\n",
            "|  Male|        Mytishchi|  63863.08984375|  63863.08984375|63863.09|63863.09|\n",
            "|  Male|            Pedra|    73921.328125|    73921.328125|73921.33|73921.33|\n",
            "|Female|            Dhaka|    68368.546875|    68368.546875|68368.55|68368.55|\n",
            "|  Male|        Mosteiros|  62508.87109375|  62508.87109375|62508.87|62508.87|\n",
            "|  Male|           Roanne|   93339.9921875|   93339.9921875|93339.99|93339.99|\n",
            "|Female|        Eindhoven| 24042.099609375| 24042.099609375| 24042.1| 24042.1|\n",
            "+------+-----------------+----------------+----------------+--------+--------+\n",
            "only showing top 20 rows\n",
            "\n"
          ],
          "name": "stdout"
        }
      ]
    },
    {
      "cell_type": "code",
      "metadata": {
        "id": "jyY3zsI1woaM"
      },
      "source": [
        "df1.write.csv('df1.csv')\r\n",
        "df1.write.json('df1.json')\r\n",
        "df1.write.parquet('df1.parquet')\r\n",
        "#can add partitions etc "
      ],
      "execution_count": 60,
      "outputs": []
    },
    {
      "cell_type": "code",
      "metadata": {
        "id": "T-farPmjxXOL"
      },
      "source": [
        "df = spark.read.csv(\"challenge.csv\", header=True)"
      ],
      "execution_count": 61,
      "outputs": []
    },
    {
      "cell_type": "code",
      "metadata": {
        "colab": {
          "base_uri": "https://localhost:8080/"
        },
        "id": "sFixDdeyzJxA",
        "outputId": "2ed270fd-f0c2-4ff0-9bee-2575e0e86acb"
      },
      "source": [
        "df.show()"
      ],
      "execution_count": 62,
      "outputs": [
        {
          "output_type": "stream",
          "text": [
            "+---------------+--------------+-----------------+----------+\n",
            "|     ip_address|       Country|      Domain Name|Bytes_used|\n",
            "+---------------+--------------+-----------------+----------+\n",
            "|  52.81.192.172|         China| odnoklassniki.ru|       463|\n",
            "| 119.239.207.13|         China|         youtu.be|        51|\n",
            "|  68.69.217.210|         China|        adobe.com|        10|\n",
            "|   7.191.21.223|      Bulgaria|     linkedin.com|       853|\n",
            "|   211.13.10.68|     Indonesia|          hud.gov|        29|\n",
            "|   239.80.21.97|      Suriname|       smh.com.au|       218|\n",
            "|106.214.106.233|       Jamaica|    amazonaws.com|        95|\n",
            "| 127.242.24.138|         China| surveymonkey.com|       123|\n",
            "|     99.2.6.139|Czech Republic|     geocities.jp|       322|\n",
            "|   237.54.11.63|         China|       amazon.com|        83|\n",
            "| 252.141.157.25|         Japan|      cornell.edu|       374|\n",
            "|185.220.128.248|       Belgium|       weebly.com|       389|\n",
            "|   151.77.19.45|   Afghanistan|independent.co.uk|       282|\n",
            "|  9.161.158.225|     Indonesia|    bloglines.com|       726|\n",
            "| 156.144.61.155|Czech Republic|   slideshare.net|       657|\n",
            "|   8.96.188.151|     Indonesia|          ibm.com|       517|\n",
            "|      5.72.7.65|        Mexico|         youtu.be|       877|\n",
            "|227.110.112.144|       Croatia|         ehow.com|       287|\n",
            "|    81.71.28.97|      Thailand|          last.fm|       588|\n",
            "|  9.255.129.184|      Thailand|          mtv.com|       114|\n",
            "+---------------+--------------+-----------------+----------+\n",
            "only showing top 20 rows\n",
            "\n"
          ],
          "name": "stdout"
        }
      ]
    },
    {
      "cell_type": "code",
      "metadata": {
        "id": "RK7BoSnszLXN"
      },
      "source": [
        "import pyspark.sql.functions as sqlfunc\r\n",
        "from pyspark.sql.functions import *\r\n",
        "df = df.withColumn('home', when(df.Country == 'Mexico', 'YES').otherwise('NO'))"
      ],
      "execution_count": 64,
      "outputs": []
    },
    {
      "cell_type": "code",
      "metadata": {
        "colab": {
          "base_uri": "https://localhost:8080/"
        },
        "id": "eC7H9GY-zO7F",
        "outputId": "1feeede7-ec40-4988-c561-5b7d62c4b86e"
      },
      "source": [
        "df.show()"
      ],
      "execution_count": 65,
      "outputs": [
        {
          "output_type": "stream",
          "text": [
            "+---------------+--------------+-----------------+----------+----+\n",
            "|     ip_address|       Country|      Domain Name|Bytes_used|home|\n",
            "+---------------+--------------+-----------------+----------+----+\n",
            "|  52.81.192.172|         China| odnoklassniki.ru|       463|  NO|\n",
            "| 119.239.207.13|         China|         youtu.be|        51|  NO|\n",
            "|  68.69.217.210|         China|        adobe.com|        10|  NO|\n",
            "|   7.191.21.223|      Bulgaria|     linkedin.com|       853|  NO|\n",
            "|   211.13.10.68|     Indonesia|          hud.gov|        29|  NO|\n",
            "|   239.80.21.97|      Suriname|       smh.com.au|       218|  NO|\n",
            "|106.214.106.233|       Jamaica|    amazonaws.com|        95|  NO|\n",
            "| 127.242.24.138|         China| surveymonkey.com|       123|  NO|\n",
            "|     99.2.6.139|Czech Republic|     geocities.jp|       322|  NO|\n",
            "|   237.54.11.63|         China|       amazon.com|        83|  NO|\n",
            "| 252.141.157.25|         Japan|      cornell.edu|       374|  NO|\n",
            "|185.220.128.248|       Belgium|       weebly.com|       389|  NO|\n",
            "|   151.77.19.45|   Afghanistan|independent.co.uk|       282|  NO|\n",
            "|  9.161.158.225|     Indonesia|    bloglines.com|       726|  NO|\n",
            "| 156.144.61.155|Czech Republic|   slideshare.net|       657|  NO|\n",
            "|   8.96.188.151|     Indonesia|          ibm.com|       517|  NO|\n",
            "|      5.72.7.65|        Mexico|         youtu.be|       877| YES|\n",
            "|227.110.112.144|       Croatia|         ehow.com|       287|  NO|\n",
            "|    81.71.28.97|      Thailand|          last.fm|       588|  NO|\n",
            "|  9.255.129.184|      Thailand|          mtv.com|       114|  NO|\n",
            "+---------------+--------------+-----------------+----------+----+\n",
            "only showing top 20 rows\n",
            "\n"
          ],
          "name": "stdout"
        }
      ]
    },
    {
      "cell_type": "code",
      "metadata": {
        "colab": {
          "base_uri": "https://localhost:8080/"
        },
        "id": "46n0Mk6tzt81",
        "outputId": "1e22a8a8-cb2c-413f-b717-9ce93aff42a3"
      },
      "source": [
        "df2 = df.groupBy('home').agg(sqlfunc.sum(df.Bytes_used).alias('total_used'))\r\n",
        "df2.show()"
      ],
      "execution_count": 66,
      "outputs": [
        {
          "output_type": "stream",
          "text": [
            "+----+----------+\n",
            "|home|total_used|\n",
            "+----+----------+\n",
            "| YES|    6293.0|\n",
            "|  NO|  508076.0|\n",
            "+----+----------+\n",
            "\n"
          ],
          "name": "stdout"
        }
      ]
    },
    {
      "cell_type": "code",
      "metadata": {
        "colab": {
          "base_uri": "https://localhost:8080/"
        },
        "id": "Vx92xWUA0L1U",
        "outputId": "d0bfb089-9299-466a-9555-a78c24de9f9b"
      },
      "source": [
        "df3 = df.groupBy('Country').agg(sqlfunc.countDistinct(df.ip_address).alias('number_of_ips'))\r\n",
        "df3.sort(col('number_of_ips').desc()).show()"
      ],
      "execution_count": 67,
      "outputs": [
        {
          "output_type": "stream",
          "text": [
            "+--------------+-------------+\n",
            "|       Country|number_of_ips|\n",
            "+--------------+-------------+\n",
            "|         China|          172|\n",
            "|     Indonesia|          114|\n",
            "|   Philippines|           65|\n",
            "|        Russia|           56|\n",
            "|        Brazil|           35|\n",
            "|        Poland|           31|\n",
            "|        Sweden|           28|\n",
            "|         Japan|           25|\n",
            "|Czech Republic|           23|\n",
            "|      Portugal|           23|\n",
            "|        France|           21|\n",
            "|          Peru|           19|\n",
            "|      Colombia|           17|\n",
            "| United States|           15|\n",
            "|       Ukraine|           14|\n",
            "|     Argentina|           14|\n",
            "|        Mexico|           13|\n",
            "|      Thailand|           12|\n",
            "|       Nigeria|           11|\n",
            "|        Canada|           11|\n",
            "+--------------+-------------+\n",
            "only showing top 20 rows\n",
            "\n"
          ],
          "name": "stdout"
        }
      ]
    },
    {
      "cell_type": "code",
      "metadata": {
        "id": "kioYk7MU0wB7"
      },
      "source": [
        ""
      ],
      "execution_count": null,
      "outputs": []
    }
  ]
}